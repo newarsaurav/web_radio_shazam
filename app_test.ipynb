{
 "cells": [
  {
   "cell_type": "code",
   "execution_count": 16,
   "metadata": {},
   "outputs": [
    {
     "name": "stderr",
     "output_type": "stream",
     "text": [
      "C:\\Users\\newar\\AppData\\Local\\Temp\\ipykernel_5692\\1975927562.py:12: DeprecationWarning: Call to deprecated function recognize_song. Use recognize method instead of recognize_song\n",
      "  out = await shazam.recognize_song(file_path)\n"
     ]
    },
    {
     "name": "stdout",
     "output_type": "stream",
     "text": [
      "{'matches': [{'id': '292236775', 'offset': 127.913210937, 'timeskew': 3.0636787e-05, 'frequencyskew': 0.0}, {'id': '228413556', 'offset': 127.691765625, 'timeskew': 0.00030577183, 'frequencyskew': 0.0}], 'location': {'accuracy': 0.01}, 'timestamp': 1725482423819, 'timezone': 'Europe/Moscow', 'track': {'layout': '5', 'type': 'MUSIC', 'key': '10579725', 'title': 'Yellow', 'subtitle': 'Coldplay', 'images': {'background': 'https://is1-ssl.mzstatic.com/image/thumb/AMCArtistImages221/v4/63/94/ac/6394acdd-a223-049c-e373-5a3597c3858e/9947797f-59c5-420d-9c1d-81be5a7b5889_ami-identity-627a3a5a7feb2fd65e55602f252c9aa8-2024-06-17T12-11-33.334Z_cropped.png/800x800cc.jpg', 'coverart': 'https://is1-ssl.mzstatic.com/image/thumb/Music221/v4/f5/93/8c/f5938c49-964c-31d1-4b33-78b634f71fb7/190295978075.jpg/400x400cc.jpg', 'coverarthq': 'https://is1-ssl.mzstatic.com/image/thumb/Music221/v4/f5/93/8c/f5938c49-964c-31d1-4b33-78b634f71fb7/190295978075.jpg/400x400cc.jpg', 'joecolor': 'b:000000p:ee9b18s:e36f09t:be7c13q:b55907'}, 'share': {'subject': 'Yellow - Coldplay', 'text': 'Yellow by Coldplay', 'href': 'https://www.shazam.com/track/10579725/yellow', 'image': 'https://is1-ssl.mzstatic.com/image/thumb/Music221/v4/f5/93/8c/f5938c49-964c-31d1-4b33-78b634f71fb7/190295978075.jpg/400x400cc.jpg', 'twitter': 'I used @Shazam to discover Yellow by Coldplay.', 'html': 'https://www.shazam.com/snippets/email-share/10579725?lang=en-US&country=GB', 'avatar': 'https://is1-ssl.mzstatic.com/image/thumb/AMCArtistImages221/v4/63/94/ac/6394acdd-a223-049c-e373-5a3597c3858e/9947797f-59c5-420d-9c1d-81be5a7b5889_ami-identity-627a3a5a7feb2fd65e55602f252c9aa8-2024-06-17T12-11-33.334Z_cropped.png/800x800cc.jpg', 'snapchat': 'https://www.shazam.com/partner/sc/track/10579725'}, 'hub': {'type': 'APPLEMUSIC', 'image': 'https://images.shazam.com/static/icons/hub/android/v5/applemusic_{scalefactor}.png', 'actions': [{'name': 'apple', 'type': 'applemusicplay', 'id': '1122782283'}, {'name': 'apple', 'type': 'uri', 'uri': 'https://audio-ssl.itunes.apple.com/itunes-assets/AudioPreview126/v4/52/a5/d2/52a5d2f1-2501-9f3a-e5c1-420c17c3e244/mzaf_18071929864287232509.plus.aac.ep.m4a'}], 'options': [{'caption': 'OPEN IN', 'actions': [{'name': 'hub:applemusic:deeplink', 'type': 'intent', 'uri': 'intent://music.apple.com/gb/album/yellow/1122782080?i=1122782283&mttnagencyid=s2n&mttnsiteid=125115&mttn3pid=Apple-Shazam&mttnsub1=Shazam_android_am&mttnsub2=5348615A-616D-3235-3830-44754D6D5973&itscg=30201&app=music&itsct=Shazam_android_am#Intent;scheme=http;package=com.apple.android.music;action=android.intent.action.VIEW;end'}, {'name': 'hub:applemusic:connect', 'type': 'applemusicconnect', 'id': '1122782283', 'uri': 'https://unsupported.shazam.com'}, {'name': 'hub:applemusic:androidstore', 'type': 'uri', 'uri': 'https://play.google.com/store/apps/details?id=com.apple.android.music&referrer=utm_source=https%3A%2F%2Fmusic.apple.com%2Fsubscribe%3Fmttnagencyid%3Ds2n%26mttnsiteid%3D125115%26mttn3pid%3DApple-Shazam%26mttnsub1%3DShazam_android_am%26mttnsub2%3D5348615A-616D-3235-3830-44754D6D5973%26itscg%3D30201%26app%3Dmusic%26itsct%3DShazam_android_am'}], 'beacondata': {'type': 'open', 'providername': 'applemusic'}, 'image': 'https://images.shazam.com/static/icons/hub/android/v5/overflow-open-option_{scalefactor}.png', 'type': 'open', 'listcaption': 'Open in Apple Music', 'overflowimage': 'https://images.shazam.com/static/icons/hub/android/v5/applemusic-overflow_{scalefactor}.png', 'colouroverflowimage': False, 'providername': 'applemusic'}], 'providers': [{'caption': 'Open in Spotify', 'images': {'overflow': 'https://images.shazam.com/static/icons/hub/android/v5/spotify-overflow_{scalefactor}.png', 'default': 'https://images.shazam.com/static/icons/hub/android/v5/spotify_{scalefactor}.png'}, 'actions': [{'name': 'hub:spotify:searchdeeplink', 'type': 'uri', 'uri': 'spotify:search:Yellow%20Coldplay'}], 'type': 'SPOTIFY'}, {'caption': 'Open in YouTube Music', 'images': {'overflow': 'https://images.shazam.com/static/icons/hub/android/v5/youtubemusic-overflow_{scalefactor}.png', 'default': 'https://images.shazam.com/static/icons/hub/android/v5/youtubemusic_{scalefactor}.png'}, 'actions': [{'name': 'hub:youtubemusic:androiddeeplink', 'type': 'uri', 'uri': 'https://music.youtube.com/search?q=Yellow+Coldplay&feature=shazam'}], 'type': 'YOUTUBEMUSIC'}, {'caption': 'Open in Deezer', 'images': {'overflow': 'https://images.shazam.com/static/icons/hub/android/v5/deezer-overflow_{scalefactor}.png', 'default': 'https://images.shazam.com/static/icons/hub/android/v5/deezer_{scalefactor}.png'}, 'actions': [{'name': 'hub:deezer:searchdeeplink', 'type': 'uri', 'uri': 'deezer-query://www.deezer.com/play?query=%7Btrack%3A%27Yellow%27%20artist%3A%27Coldplay%27%7D'}], 'type': 'DEEZER'}], 'explicit': False, 'displayname': 'APPLE MUSIC'}, 'sections': [{'type': 'SONG', 'metapages': [{'image': 'https://is1-ssl.mzstatic.com/image/thumb/AMCArtistImages221/v4/63/94/ac/6394acdd-a223-049c-e373-5a3597c3858e/9947797f-59c5-420d-9c1d-81be5a7b5889_ami-identity-627a3a5a7feb2fd65e55602f252c9aa8-2024-06-17T12-11-33.334Z_cropped.png/800x800cc.jpg', 'caption': 'Coldplay'}, {'image': 'https://is1-ssl.mzstatic.com/image/thumb/Music221/v4/f5/93/8c/f5938c49-964c-31d1-4b33-78b634f71fb7/190295978075.jpg/400x400cc.jpg', 'caption': 'Yellow'}], 'tabname': 'Song', 'metadata': [{'title': 'Album', 'text': 'Parachutes'}, {'title': 'Label', 'text': 'Parlophone UK'}, {'title': 'Released', 'text': '2000'}]}, {'type': 'RELATED', 'url': 'https://cdn.shazam.com/shazam/v3/en-US/GB/android/-/tracks/track-similarities-id-10579725?startFrom=0&pageSize=20&connected=', 'tabname': 'Related'}], 'url': 'https://www.shazam.com/track/10579725/yellow', 'artists': [{'id': '42', 'adamid': '471744'}], 'isrc': 'GBAYE1600170', 'genres': {'primary': 'Alternative'}, 'urlparams': {'{tracktitle}': 'Yellow', '{trackartist}': 'Coldplay'}, 'highlightsurls': {}, 'relatedtracksurl': 'https://cdn.shazam.com/shazam/v3/en-US/GB/android/-/tracks/track-similarities-id-10579725?startFrom=0&pageSize=20&connected=', 'albumadamid': '1122782080'}, 'tagid': '38E114E8-8A85-4086-9484-CBC14B5E3C1A'}\n"
     ]
    }
   ],
   "source": [
    "import asyncio\n",
    "import nest_asyncio\n",
    "from shazamio import Shazam\n",
    "\n",
    "nest_asyncio.apply()\n",
    "\n",
    "details = {}\n",
    "\n",
    "async def find_song(file_path):\n",
    "    global details\n",
    "    shazam = Shazam()\n",
    "    out = await shazam.recognize_song(file_path)\n",
    "    details = out\n",
    "    print(out)\n",
    "\n",
    "# Replace 'your_audio_file.mp3' with the path to your audio file\n",
    "audio_file = r'C:\\Users\\newar\\OneDrive\\Desktop\\web-shazam\\Queen - We Will Rock You (Official Video) copy 2.mp3'\n",
    "audio_file2 = r'C:\\Users\\newar\\OneDrive\\Desktop\\web-shazam\\song-yel.mp3'\n",
    "ogg_audio_test = r'C:\\Users\\newar\\OneDrive\\Desktop\\web-shazam\\song-calmdown-recorderd.ogg'\n",
    "# Run the async function\n",
    "asyncio.run(find_song(audio_file2))\n"
   ]
  },
  {
   "cell_type": "code",
   "execution_count": null,
   "metadata": {},
   "outputs": [],
   "source": []
  }
 ],
 "metadata": {
  "kernelspec": {
   "display_name": "shazamEnv",
   "language": "python",
   "name": "python3"
  },
  "language_info": {
   "codemirror_mode": {
    "name": "ipython",
    "version": 3
   },
   "file_extension": ".py",
   "mimetype": "text/x-python",
   "name": "python",
   "nbconvert_exporter": "python",
   "pygments_lexer": "ipython3",
   "version": "3.8.0"
  }
 },
 "nbformat": 4,
 "nbformat_minor": 2
}
